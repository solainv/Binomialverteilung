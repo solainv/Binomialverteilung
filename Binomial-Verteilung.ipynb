{
 "cells": [
  {
   "cell_type": "markdown",
   "id": "cdfe80c6-df70-43b4-ad03-f61c3c2b360f",
   "metadata": {},
   "source": [
    "# Binomialverteilung"
   ]
  },
  {
   "cell_type": "markdown",
   "id": "a4628389-2d69-4185-9f0d-d4f1109897b8",
   "metadata": {},
   "source": [
    "## Definition:\n",
    "Sie haben eine Zufallsvariable $X$ die sich ergibt als Summe von viele Zufallsvariable $X_1, X_2, ... X_n$ die Bernoulli verteilt mit dem selben Parameter $p$ und unabhängig sind $X= X_1+X_2+...+X_n$.\n",
    "Mit anderen Worten ich wieserholde ein Experiment $n$ mal was entweder klappen oder schiefgehen kann und $X$ zählt wie oft es geklappt hat:\n",
    "\n",
    "$(X=k)$ bedeutet ich $k$ Erfolge habe.\n",
    "\n",
    "Dann sagen wir $X$ ist binomial verteilt mit dem Parametern $n$ und $p$ und schreiben wir $$X\\sim B_{n,p}$$\n",
    "- $n$ ist die Anzahl der Wiederholgen (wie oft versuche ich etwas)\n",
    "- $p$ ist die Wahscheinlichkeit dafür, dass es bei einem Experiment Erfolg gibt."
   ]
  },
  {
   "cell_type": "markdown",
   "id": "f76c0ed7-06fc-444a-8fd7-94956240bb17",
   "metadata": {},
   "source": [
    "Bei diesem Zufallsvariable es könnte Werte zwischen $0$ und $n$ rauskommen.\n",
    "- Im schlimmsten Fall kann es sein dass ich n mal was probiere und dass es nie passiert.\n",
    "- Im besten Fall habe ich $n$ mal Erfolg"
   ]
  },
  {
   "cell_type": "markdown",
   "id": "e5b2a65b-8b0b-4a46-a0d8-83754b23166a",
   "metadata": {},
   "source": [
    "### Wahrscheinlichkeitsfunktion."
   ]
  },
  {
   "cell_type": "markdown",
   "id": "8ad5bf71-e064-43e7-b232-b803ead9dbfa",
   "metadata": {},
   "source": [
    "Angenommen wir führen 4 Versuche aus und wir wollen wissen was die Wahscheinlichkeit dafür ist, dass wir 2 mal Erfolg habe.\n",
    "- $n=4$\n",
    "- $k=2$\n",
    "- $X=X_1+X_2+X_3+X_4$"
   ]
  },
  {
   "cell_type": "markdown",
   "id": "2081e590-451c-4b0e-972e-176cfe723adb",
   "metadata": {},
   "source": [
    "|                            |               \n",
    "|----------------------------------\n",
    "|$P(X=2)$ =  $P(X_1=1,~X_2=1,~X_3=0,~X_4=0)$ |                          \n",
    "|$~~~~~~~~~~~~~~~~~+ P(X_1=0,~X_2=0,~X_3=1,~X_4=1)$ |                                \n",
    "|$~~~~~~~~~~~~~~~~~+ P(X_1=0,~X_2=1,~X_3=0,~X_4=1)$ |                                \n",
    "|$~~~~~~~~~~~~~~~~~+ P(X_1=1,~X_2=0,~X_3=1,~X_4=0)$ |                                \n",
    "|$~~~~~~~~~~~~~~~~~+ P(X_1=1,~X_2=0,~X_3=0,~X_4=1)$ |                     \n",
    "|$~~~~~~~~~~~~~~~~~+ P(X_1=0,~X_2=1,~X_3=1,~X_4=0)$ |       "
   ]
  },
  {
   "cell_type": "markdown",
   "id": "58ac4be5-3aa9-48cf-bedc-a12491af55f2",
   "metadata": {},
   "source": [
    "Da $X_i$ unabhängig sind, dann dürfen wir diese Formel in einzelnen Wahscheinlichkeiten zerlegen"
   ]
  },
  {
   "cell_type": "markdown",
   "id": "2d65c7f7-2b69-42c2-ad8d-24a77a6eee28",
   "metadata": {},
   "source": [
    "|                            |               \n",
    "|----------------------------------\n",
    "|$        P(X=2)$ = $P(X_1=1).P(X_2=1).P(X_3=0).P(X_4=0)$|                          \n",
    "|$~~~~~~~~~~~~~~~~~+ P(X_1=0).P(X_2=0).P(X_3=1).P(X_4=1)$|                                \n",
    "|$~~~~~~~~~~~~~~~~~+ P(X_1=0).P(X_2=1).P(X_3=0).P(X_4=1)$|                                \n",
    "|$~~~~~~~~~~~~~~~~~+ P(X_1=0).P(X_2=0).P(X_3=1).P(X_4=0)$|                                \n",
    "|$~~~~~~~~~~~~~~~~~+ P(X_1=1).P(X_2=0).P(X_3=0).P(X_4=1)$|                     \n",
    "|$~~~~~~~~~~~~~~~~~+ P(X_1=0).P(X_2=1).P(X_3=1).P(X_4=0)$|\n",
    "|$~~~~~~~~~~~~~~~~~=~~~~~~~~p~~~~~~~~.~~~~~~~~~p~~~~~~~~.~~~~(1-p)~~.~~~(1-p)$|\n",
    "|$~~~~~~~~~~~~~~~~~+~~~~(1-p)~~~.~~~~(1-p)~~~.~~~~~~~~~p~~~~~~~.~~p~~$|\n",
    "|$~~~~~~~~~~~~~~~~~+~~~~~(1-p)~~.~~~~~~~~~p~~~~~~~~.~~~(1-p)~~~.~~p~~$|\n",
    "|$~~~~~~~~~~~~~~~~~+~~~~~~~~~p~~~~~~~~.~~~~(1-p)~~~.~~~~~~~~p~~~~~~~~.~~~(1-p)$|\n",
    "|$~~~~~~~~~~~~~~~~~+~~~~~~~~p~~~~~~~~~.~~~~(1-p)~~~.~~~(1-p)~~~.~~p~~$|\n",
    "|$~~~~~~~~~~~~~~~~~+~~~(1-p)~~~~.~~~~~~~~~p~~~~~~~~.~~~~~~~~~p~~~~~~~.~~~~~(1-p)$|\n"
   ]
  },
  {
   "cell_type": "markdown",
   "id": "7eccaf07-92d9-4b06-ab94-64a67f87bcb2",
   "metadata": {},
   "source": [
    "Da es $C_4^2$ Möglichkeiten 2 einzelnen aus dem vier auszuwählen gibt. Dann $$P(X=2)=C_4^2.p^2.(1-p)^{4-2}$$"
   ]
  },
  {
   "cell_type": "markdown",
   "id": "d2b53018-9ac0-49e1-9629-e683e0274362",
   "metadata": {},
   "source": [
    "Ganz allgemein Die Wahscheinlichkeitsfunktion einer Binomialverteilung ist: $$P(X=k)=C_n^k.p^k.(1-p)^{n-k}$$"
   ]
  },
  {
   "cell_type": "markdown",
   "id": "cfcbc9a3-ac1d-44e5-89c5-34d7eeedeeb9",
   "metadata": {},
   "source": [
    "### Erwartungswert:\n",
    "$$E(X)=E(X_1+X_2+...+X_n)= E(X_1)+E(X_2)+...+E(X_n) = p+p+...+p = n.p$$"
   ]
  },
  {
   "cell_type": "markdown",
   "id": "3fc8d513-1686-47fc-9ac1-b40cc2ac9c21",
   "metadata": {},
   "source": [
    "### Varianz:\n",
    "Da $X_i$ unabhängig sind:\n",
    "$$Var(X)=Var(X_1)+Var(X_2)+...+Var(X_n)=n.p.(1-p)$$"
   ]
  },
  {
   "cell_type": "markdown",
   "id": "a9e1280b-88f2-4cfe-9722-d511e5c15619",
   "metadata": {},
   "source": [
    "# Python"
   ]
  },
  {
   "cell_type": "markdown",
   "id": "7a349737-ca39-4f98-afed-b8ccaac33e21",
   "metadata": {},
   "source": [
    "Man muss die obigen Werte nicht per Hand berechnen sondern wir können auch Python dafür übernehmen"
   ]
  },
  {
   "cell_type": "code",
   "execution_count": 1,
   "id": "987891df-7cf1-4dd9-9e8c-98ef692d392e",
   "metadata": {},
   "outputs": [],
   "source": [
    "from scipy.stats import binom\n",
    "import numpy as np\n",
    "import matplotlib.pyplot as plt"
   ]
  },
  {
   "cell_type": "code",
   "execution_count": 2,
   "id": "f9a45b5b-8242-457e-a36b-0adb21e5793c",
   "metadata": {},
   "outputs": [],
   "source": [
    "# Binomial-verteilung initialisieren\n",
    "# 10 Experiments und 0.5 ist die Wahscheinlichkeit für jedes einzel Experiment\n",
    "bi = binom(10, 0.5)"
   ]
  },
  {
   "cell_type": "markdown",
   "id": "91213b60-882b-40cf-b15c-8b9b14e50f57",
   "metadata": {},
   "source": [
    "## Wahrscheinlichkeitsfunktion:"
   ]
  },
  {
   "cell_type": "code",
   "execution_count": 3,
   "id": "c55940e9-3cef-481a-8270-1ff7624e68f9",
   "metadata": {},
   "outputs": [
    {
     "data": {
      "text/plain": [
       "0.1171875"
      ]
     },
     "execution_count": 3,
     "metadata": {},
     "output_type": "execute_result"
    }
   ],
   "source": [
    "# P(X=3) =?\n",
    "bi.pmf(3)"
   ]
  },
  {
   "cell_type": "code",
   "execution_count": 4,
   "id": "5b508ddd-6489-459f-993f-bdba76bfa54e",
   "metadata": {},
   "outputs": [
    {
     "data": {
      "text/plain": [
       "0.24609375000000003"
      ]
     },
     "execution_count": 4,
     "metadata": {},
     "output_type": "execute_result"
    }
   ],
   "source": [
    "# P(X=5) =?\n",
    "bi.pmf(5)"
   ]
  },
  {
   "cell_type": "markdown",
   "id": "2d6c99e2-7ae4-40c7-958d-edae75dce1de",
   "metadata": {},
   "source": [
    "### Wahrscheinlichkeitsfunktion ploten"
   ]
  },
  {
   "cell_type": "code",
   "execution_count": 5,
   "id": "3c520491-f040-4d71-a03c-eaeb3745839c",
   "metadata": {},
   "outputs": [
    {
     "data": {
      "image/png": "[encoded data removed]",
      "text/plain": [
       "<Figure size 640x480 with 1 Axes>"
      ]
     },
     "metadata": {},
     "output_type": "display_data"
    }
   ],
   "source": [
    "def prob_mass_fct(verteilung, start, end):\n",
    "    x = np.arange(start, end + 1, 1)  # Define x values with step size 1\n",
    "    y = verteilung.pmf(x)\n",
    "    plt.bar(x, y)\n",
    "    plt.title(\"Probability Mass Function\")\n",
    "    plt.xlabel(\"Anzahl der Erfolge\")\n",
    "    plt.ylabel(\"Probability\")\n",
    "    plt.show()\n",
    "prob_mass_fct(bi, 0, 10)"
   ]
  },
  {
   "cell_type": "markdown",
   "id": "9b8c25b5-ce34-47a8-ac39-5c20726963e4",
   "metadata": {},
   "source": [
    "Wenn die Wahrscheinlichkeit für jedes einzel Experiment 0.5 ist dann bekomme ich so einen schönen symetrischen Verteilung.\n",
    "- Am wahrscheinlichsten ist, dass ich 5 mal Erfolg habe.\n",
    "- Nach außen wird es unwahrscheinlicher (0, 10) aber es ist natürlich nicht total unwahrscheinlich, das es  passiert"
   ]
  },
  {
   "cell_type": "markdown",
   "id": "054a1e2e-b44e-4cd8-861d-8d61241e1859",
   "metadata": {},
   "source": [
    "Nun ändern wie die Wahrscheinlichkeit"
   ]
  },
  {
   "cell_type": "code",
   "execution_count": 6,
   "id": "c7bb1fb3-2d35-4980-b370-3f1e5df7acce",
   "metadata": {},
   "outputs": [],
   "source": [
    "bi = binom(10, 0.75)"
   ]
  },
  {
   "cell_type": "code",
   "execution_count": 7,
   "id": "12aad871-175b-4062-8de1-165f6f517781",
   "metadata": {},
   "outputs": [
    {
     "data": {
      "image/png": "[encoded data removed]",
      "text/plain": [
       "<Figure size 640x480 with 1 Axes>"
      ]
     },
     "metadata": {},
     "output_type": "display_data"
    }
   ],
   "source": [
    "prob_mass_fct(bi, 0, 10)"
   ]
  },
  {
   "cell_type": "markdown",
   "id": "67f280cd-33c0-476e-98f0-85c0dceaa978",
   "metadata": {},
   "source": [
    "Der Berg sozusagen wurde nach rechts gewandert, jetzt haben wir kein symetrischer Bild mehr sondern es wird wahrscheinlicher, dass mehr Experimente Erfolg haben. Weil die Wahrscheinlichkeit für ein Einzelerfolg größer geworden ist"
   ]
  },
  {
   "cell_type": "markdown",
   "id": "787565f6-7247-4240-84c5-eb60aef2fbf6",
   "metadata": {},
   "source": [
    "Nichtsdestotrotz muss es immer noch so sein, dass Werte von 0 bis 10 betrachtet werden. Selbst wenn ihre  Wahrschnlichkeiten geringer ist sowie bei 0 und 1 in diesem Fall. Es ist natürlich nicht absolut unwharscheilich dass es passiert"
   ]
  },
  {
   "cell_type": "markdown",
   "id": "8b944a34-b63e-4381-a9ff-4717a8852c99",
   "metadata": {},
   "source": [
    "### Erwartungswert:"
   ]
  },
  {
   "cell_type": "code",
   "execution_count": 8,
   "id": "e9ab525c-883c-45f5-96e1-05736790549d",
   "metadata": {},
   "outputs": [
    {
     "data": {
      "text/plain": [
       "7.499999999999997"
      ]
     },
     "execution_count": 8,
     "metadata": {},
     "output_type": "execute_result"
    }
   ],
   "source": [
    "# E(X)=?\n",
    "bi.expect()"
   ]
  },
  {
   "cell_type": "markdown",
   "id": "19f1f8e2-9509-4e64-ac83-c20927c74a19",
   "metadata": {},
   "source": [
    "### Varianz"
   ]
  },
  {
   "cell_type": "code",
   "execution_count": 9,
   "id": "4c190a04-a6d8-47ee-bde3-deadc4fa517f",
   "metadata": {},
   "outputs": [
    {
     "data": {
      "text/plain": [
       "1.875"
      ]
     },
     "execution_count": 9,
     "metadata": {},
     "output_type": "execute_result"
    }
   ],
   "source": [
    "# Var(X)\n",
    "bi.var()"
   ]
  },
  {
   "cell_type": "markdown",
   "id": "6530dd1c-8785-483f-b10e-cb248bc7603f",
   "metadata": {},
   "source": [
    "### Standardabweichung"
   ]
  },
  {
   "cell_type": "code",
   "execution_count": 10,
   "id": "bfb49429-cdf9-4ec2-b545-78e9b873d103",
   "metadata": {},
   "outputs": [
    {
     "data": {
      "text/plain": [
       "1.3693063937629153"
      ]
     },
     "execution_count": 10,
     "metadata": {},
     "output_type": "execute_result"
    }
   ],
   "source": [
    "bi.std()"
   ]
  },
  {
   "cell_type": "markdown",
   "id": "34cc903c-0a22-4fdc-b6a3-140b765f87b8",
   "metadata": {},
   "source": [
    "Die Standardabweichung beträgt also ungefähr 1.369. Dies bedeutet, dass die Streuung der Ergebnisse um den Mittelwert herum etwa 1.369 beträgt."
   ]
  },
  {
   "cell_type": "markdown",
   "id": "1b2c2044-38fc-4e91-bd62-97a319b83c13",
   "metadata": {},
   "source": [
    "## Verteilungsfunktion: F(x)"
   ]
  },
  {
   "cell_type": "markdown",
   "id": "145e1a20-d89a-4c97-9208-12764b0cb435",
   "metadata": {},
   "source": [
    "nehmen wir das letzte Binomialverteilung"
   ]
  },
  {
   "cell_type": "code",
   "execution_count": 12,
   "id": "38ad7ce5-9027-4baa-a45c-8357bbbf585a",
   "metadata": {},
   "outputs": [],
   "source": [
    "bi = binom(10, 0.75)"
   ]
  },
  {
   "cell_type": "code",
   "execution_count": 13,
   "id": "97f77c71-f554-48ec-9f27-cf37863337c4",
   "metadata": {},
   "outputs": [
    {
     "data": {
      "text/plain": [
       "0.07812690734863281"
      ]
     },
     "execution_count": 13,
     "metadata": {},
     "output_type": "execute_result"
    }
   ],
   "source": [
    "# F(5) =P(X<=5)=?\n",
    "bi.cdf(5)"
   ]
  },
  {
   "cell_type": "code",
   "execution_count": 14,
   "id": "860678dd-96fd-41c7-8893-4ae3bcb2a8a5",
   "metadata": {},
   "outputs": [
    {
     "data": {
      "text/plain": [
       "0.7559747695922852"
      ]
     },
     "execution_count": 14,
     "metadata": {},
     "output_type": "execute_result"
    }
   ],
   "source": [
    "# F(8)=?\n",
    "bi.cdf(8)"
   ]
  },
  {
   "cell_type": "markdown",
   "id": "53481491-2c34-4f1a-9e49-b138cc1dc0ca",
   "metadata": {},
   "source": [
    "Dies bedeutet das die Wahrscheinlichkeit dafür, dass ich 8 oder weniger Erfolge habe beträgt etwa 0.755"
   ]
  },
  {
   "cell_type": "markdown",
   "id": "bc824b92-c54e-4c76-92b5-0ec048a3b484",
   "metadata": {},
   "source": [
    "### Verteilungsfunktion ploten"
   ]
  },
  {
   "cell_type": "code",
   "execution_count": 15,
   "id": "8e2696bc-7c52-4391-9087-18f75211ab21",
   "metadata": {},
   "outputs": [],
   "source": [
    "def cdf_fct(verteilung, interval, samples=100):\n",
    "    x = np.linspace(interval[0], interval[1], samples)\n",
    "    y = verteilung.cdf(x)\n",
    "    plt.plot(x, y)\n",
    "    plt.title('Verteilungsfunktion von Binomialverteilung')\n",
    "    plt.xlabel('Anzahl der Erfolge')\n",
    "    plt.ylabel('Cumulative Probability')\n",
    "    plt.show()"
   ]
  },
  {
   "cell_type": "code",
   "execution_count": 16,
   "id": "a468a7f4-bc60-45e8-b7c3-a0c8a82b51c8",
   "metadata": {},
   "outputs": [
    {
     "data": {
      "image/png": "[encoded data removed]",
      "text/plain": [
       "<Figure size 640x480 with 1 Axes>"
      ]
     },
     "metadata": {},
     "output_type": "display_data"
    }
   ],
   "source": [
    "cdf_fct(bi, [-1, 11], 1000)"
   ]
  },
  {
   "cell_type": "code",
   "execution_count": null,
   "id": "319536c1-bfb6-4cd0-b60c-ad1eca8f6809",
   "metadata": {},
   "outputs": [],
   "source": []
  }
 ],
 "metadata": {
  "kernelspec": {
   "display_name": "Python 3 (ipykernel)",
   "language": "python",
   "name": "python3"
  },
  "language_info": {
   "codemirror_mode": {
    "name": "ipython",
    "version": 3
   },
   "file_extension": ".py",
   "mimetype": "text/x-python",
   "name": "python",
   "nbconvert_exporter": "python",
   "pygments_lexer": "ipython3",
   "version": "3.11.7"
  }
 },
 "nbformat": 4,
 "nbformat_minor": 5
}
